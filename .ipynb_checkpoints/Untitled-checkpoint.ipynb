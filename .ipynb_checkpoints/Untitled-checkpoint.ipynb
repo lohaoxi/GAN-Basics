{
 "cells": [
  {
   "cell_type": "code",
   "execution_count": 68,
   "metadata": {},
   "outputs": [],
   "source": [
    "import pandas as pd \n",
    "import numpy as np\n",
    "pd.options.display.float_format = \"{:.10f}\".format\n",
    "\n",
    "class LifeTable():\n",
    "    \n",
    "    def __init__(self, csv_path):\n",
    "        self.df = pd.read_csv(filepath_or_buffer = csv_path).fillna(0)\n",
    "        self.df_ult = self.get_df_ult()\n",
    "        self.df_sel0, self.df_sel1 = self.get_df_sel()\n",
    "        \n",
    "        \n",
    "        \n",
    "    def get_df_ult(self, round_up = True):\n",
    "\n",
    "        l_ult = self.df[\"q_ult\"]\n",
    "        l_ult = l_ult.shift(1)\n",
    "        l_ult = l_ult.fillna(0)\n",
    "        l_ult = 1 - l_ult\n",
    "        l_ult = l_ult.cumprod()\n",
    "        l_ult = 10000 * l_ult\n",
    "\n",
    "        if round_up == True: l_ult = round(l_ult, 4) \n",
    "\n",
    "        df_ult = {\"x\": self.df[\"x\"], \n",
    "                  \"l\": l_ult}\n",
    "\n",
    "        df_ult = pd.DataFrame(df_ult)\n",
    "\n",
    "        return(df_ult)\n",
    "\n",
    "    def get_df_sel(self, round_up = True):\n",
    "\n",
    "        l_ult = get_df_ult(df = self.df, \n",
    "                           round_up = False)\n",
    "        l_ult = l_ult[\"l\"]\n",
    "        l_ult_lead2 = l_ult.shift(-2).fillna(0)\n",
    "        q_sel1_lead1 = self.df[\"q_sel1\"].shift(-1).fillna(0)\n",
    "        l_sel1 = l_ult_lead2 / (1 - q_sel1_lead1)\n",
    "        l_sel0 = l_sel1 / (1 - self.df[\"q_sel0\"])\n",
    "        l_sel1 = l_sel1.shift(1).fillna(0)\n",
    "\n",
    "        l_sel0 = round(l_sel0, 4)\n",
    "        l_sel1 = round(l_sel1, 4)\n",
    "\n",
    "        df_sel0 = {\"x\": self.df[\"x\"], \n",
    "                   \"l\": l_sel0}\n",
    "\n",
    "        df_sel1 = {\"x\": self.df[\"x\"], \n",
    "                   \"l\": l_sel1}\n",
    "\n",
    "        df_sel0 = pd.DataFrame(df_sel0)\n",
    "        df_sel1 = pd.DataFrame(df_sel1)\n",
    "\n",
    "        return(df_sel0, \n",
    "               df_sel1)\n",
    "    \n",
    "    def l_ult(self, x):\n",
    "        df = self.df_ult\n",
    "        l = df.loc[df['x'] == x].iloc[0, 1]\n",
    "        return(l)\n",
    "    \n",
    "    def l_sel0(self, x):\n",
    "        df = self.df_sel0\n",
    "        l = df.loc[df['x'] == x].iloc[0, 1]\n",
    "        return(l)\n",
    "    \n",
    "    def l_sel1(self, x):\n",
    "        df = self.df_sel1\n",
    "        l = df.loc[df['x'] == x].iloc[0, 1]\n",
    "        return(l)\n",
    "    \n",
    "    def pxt_ult(self, x, t = 1, step = True):\n",
    "        curr_age = x\n",
    "        next_age = x + t\n",
    "        l_x = self.l_ult(x = curr_age)\n",
    "        l_xt = self.l_ult(x = next_age)\n",
    "        pxt = l_xt / l_x\n",
    "        pxt = round(pxt, 6)\n",
    "        \n",
    "        if step == True:            \n",
    "            print(\"l_{xt} = {l_xt}\".format(xt = next_age, l_xt = l_xt))\n",
    "            print(\"l_{x} = {l_x}\".format(x = curr_age, l_x = l_x))\n",
    "            print(\"{t}p{x} = {pxt}\".format(t = t if t != 1 else \"\", \n",
    "                                            x = x, \n",
    "                                            pxt = pxt))\n",
    "        return(prob)\n",
    "\n",
    "    def qxt_ult(self, x, t = 1, m = 0, step = True):        \n",
    "        qxt = self.pxt_ult(x = x, t = m, step = step) * (1 - self.pxt_ult(x = x + m, t = t, step = step))  \n",
    "        return(qxt)\n",
    "            \n",
    "        \n",
    "        \n",
    "        \n",
    "        \n",
    "        \n",
    "        \n",
    "        \n",
    "        if step == True:            \n",
    "            print(\"l_{xt} = {l_xt}\".format(xt = next_age, l_xt = l_xt))\n",
    "            print(\"l_{x} = {l_x}\".format(x = curr_age, l_x = l_x))\n",
    "            print(\"{t}p{x} = {prob}\".format(t = t if t != 1 else \"\", \n",
    "                                            x = x, \n",
    "                                            prob = prob))\n",
    "        return(prob)\n",
    "    \n",
    "\n",
    "\n",
    "        \n",
    "        \n",
    "\n"
   ]
  },
  {
   "cell_type": "code",
   "execution_count": 69,
   "metadata": {},
   "outputs": [],
   "source": [
    "am92 = LifeTable(\"data/am92.csv\")"
   ]
  },
  {
   "cell_type": "code",
   "execution_count": 72,
   "metadata": {},
   "outputs": [
    {
     "name": "stdout",
     "output_type": "stream",
     "text": [
      "l_17 = 10000.0\n",
      "l_17 = 10000.0\n",
      "0p17 = 1.0\n"
     ]
    },
    {
     "data": {
      "text/plain": [
       "1.0"
      ]
     },
     "execution_count": 72,
     "metadata": {},
     "output_type": "execute_result"
    }
   ],
   "source": [
    "am92.pxt_ult(x = 17, t = 0)"
   ]
  },
  {
   "cell_type": "code",
   "execution_count": null,
   "metadata": {},
   "outputs": [],
   "source": []
  }
 ],
 "metadata": {
  "kernelspec": {
   "display_name": "Python 3",
   "language": "python",
   "name": "python3"
  },
  "language_info": {
   "codemirror_mode": {
    "name": "ipython",
    "version": 3
   },
   "file_extension": ".py",
   "mimetype": "text/x-python",
   "name": "python",
   "nbconvert_exporter": "python",
   "pygments_lexer": "ipython3",
   "version": "3.7.3"
  }
 },
 "nbformat": 4,
 "nbformat_minor": 4
}
